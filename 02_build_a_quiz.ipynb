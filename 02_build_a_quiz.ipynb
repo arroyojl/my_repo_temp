{
 "cells": [
  {
   "cell_type": "code",
   "execution_count": null,
   "metadata": {
    "tags": []
   },
   "outputs": [],
   "source": [
    "# solution on Julie\n",
    "def ask_question(nb_attempts_left, question_sentence, right_answer): # three arguments\n",
    "    if nb_attempts_left > 0:\n",
    "        answer = input(question_sentence)\n",
    "        answer = answer.lower()\n",
    "        while answer != right_answer:\n",
    "            nb_attempts_left -=1\n",
    "            print(f\"Sorry, you have {nb_attempts_left} chances left.\")\n",
    "            if nb_attempts_left == 0:\n",
    "                print(\"Oh no, you lost the quiz...\")\n",
    "                break\n",
    "            answer = input(question_sentence)\n",
    "            answer = answer.lower()\n",
    "    print('')\n",
    "    return nb_attempts_left\n",
    "\n",
    "questions_answers_list = [\n",
    "    (\"How many times did the French soccer team win the World Cup?\", \"2\"),\n",
    "    (\"When was Apple founded?\", \"1976\"),\n",
    "    (\"Who founded SpaceX?\", \"elon musk\")\n",
    "]\n",
    "\n",
    "nb_attempts = 3\n",
    "\n",
    "for question, answer in questions_answers_list :\n",
    "    nb_attempts = ask_question(nb_attempts, question, answer) # calling the function\n",
    "\n",
    "if nb_attempts > 0:\n",
    "    print(\"Well done, you have won!\")"
   ]
  },
  {
   "cell_type": "code",
   "execution_count": null,
   "metadata": {},
   "outputs": [],
   "source": [
    "# other version\n",
    "def quiz(questions):\n",
    "    score = 0\n",
    "    for question in questions:\n",
    "        print(question)\n",
    "        answer = input(\"Your answer: \")\n",
    "        if answer.lower() == questions[question].lower():\n",
    "            print(\"Correct!\\n\")\n",
    "            score += 1\n",
    "        else:\n",
    "            print(f\"Sorry, the correct answer is {questions[question]}.\\n\")\n",
    "    print(f\"You got {score} out of {len(questions)} questions correct.\")\n",
    "\n",
    "quiz_questions = {\n",
    "    \"How many times did the French soccer team win the World Cup?\": \"2\",\n",
    "    \"When was Apple founded?\": \"1976\",\n",
    "    \"Who founded SpaceX?\": \"Elon Musk\"\n",
    "}\n",
    "\n",
    "quiz(quiz_questions)\n"
   ]
  },
  {
   "cell_type": "code",
   "execution_count": null,
   "metadata": {},
   "outputs": [],
   "source": [
    "# with 3 lives by default\n",
    "def quiz(questions, lives=3):\n",
    "    score = 0\n",
    "    for q in questions:\n",
    "        print(q)\n",
    "        answer = input(\"Your answer: \")\n",
    "        if answer.lower() == questions[q].lower():\n",
    "            print(\"Correct!\\n\")\n",
    "            score += 1\n",
    "        else:\n",
    "            print(f\"Wrong answer! The correct answer is {questions[q]}.\")\n",
    "            lives -= 1\n",
    "            if lives == 0:\n",
    "                print(\"You are out of lives. Game over!\")\n",
    "                break\n",
    "            else:\n",
    "                print(f\"You have {lives} lives left.\\n\")\n",
    "    print(f\"You got {score} out of {len(questions)} questions correct.\")\n",
    "\n",
    "# Sample questions for the quiz\n",
    "quiz_questions = {\n",
    "    \"How many times did the French soccer team win the World Cup?\": \"2\",\n",
    "    \"When was Apple founded?\": \"1976\",\n",
    "    \"Who founded SpaceX?\": \"Elon Musk\"\n",
    "}\n",
    "\n",
    "lives = 3\n",
    "quiz(quiz_questions, lives)\n"
   ]
  }
 ],
 "metadata": {
  "kernelspec": {
   "display_name": "Python 3",
   "language": "python",
   "name": "python3"
  },
  "language_info": {
   "codemirror_mode": {
    "name": "ipython",
    "version": 3
   },
   "file_extension": ".py",
   "mimetype": "text/x-python",
   "name": "python",
   "nbconvert_exporter": "python",
   "pygments_lexer": "ipython3",
   "version": "3.11.3"
  },
  "orig_nbformat": 2
 },
 "nbformat": 4,
 "nbformat_minor": 2
}
