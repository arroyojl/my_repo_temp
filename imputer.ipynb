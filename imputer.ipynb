{
  "cells": [
    {
      "cell_type": "markdown",
      "metadata": {
        "colab_type": "text",
        "id": "6cqYL_Y0rfoH"
      },
      "source": [
        "# Imputer"
      ]
    },
    {
      "cell_type": "markdown",
      "metadata": {
        "colab_type": "text",
        "id": "sB61JRG-rj6v"
      },
      "source": [
        "_In data science, it's common for there to be missing values in a dataset. Let's see how we can create a class that will allow us to replace this missing value by the average of the values in the list_"
      ]
    },
    {
      "cell_type": "markdown",
      "metadata": {
        "colab_type": "text",
        "id": "nvclKDGOrlV3"
      },
      "source": [
        "1. _Create a class that we will call Imputer_.\n",
        "2. _To simplify the exercise, we will only deal with lists for the moment._\n",
        "3. _Our class will take an attribute that we will call list_.\n",
        "4. _Create an avg() function that will first remove the missing value and then replace it with the average of the list._"
      ]
    },
    {
      "cell_type": "code",
      "execution_count": 27,
      "metadata": {},
      "outputs": [],
      "source": [
        "import statistics"
      ]
    },
    {
      "cell_type": "code",
      "execution_count": 28,
      "metadata": {
        "colab": {
          "base_uri": "https://localhost:8080/",
          "height": 52
        },
        "colab_type": "code",
        "id": "4agC-7RLrQSp",
        "outputId": "c98a0475-d2f7-4e53-e3b3-e45b2c1874ff"
      },
      "outputs": [],
      "source": [
        "class Imputer():\n",
        "\n",
        "    def average(list):\n",
        "        num_of_nones = list.count(None)\n",
        "        while None in list:\n",
        "            list.remove(None)\n",
        "        print(list)\n",
        "        while num_of_nones != 0:\n",
        "            list.append(sum(list) / len(list))\n",
        "            num_of_nones -= 1\n",
        "        print(list)\n",
        "\n",
        "    def median(list):\n",
        "        num_of_nones = list.count(None)\n",
        "        while None in list:\n",
        "            list.remove(None)\n",
        "        print(list)\n",
        "        median = statistics.median(list)\n",
        "        while num_of_nones != 0:\n",
        "            list.append(median)\n",
        "            num_of_nones -= 1\n",
        "        print(list)"
      ]
    },
    {
      "cell_type": "code",
      "execution_count": 25,
      "metadata": {},
      "outputs": [
        {
          "name": "stdout",
          "output_type": "stream",
          "text": [
            "[1, 2, 3, 4]\n",
            "[1, 2, 3, 4, 2.5, 2.5]\n"
          ]
        }
      ],
      "source": [
        "Imputer.average([1, 2, 3, None, 4, None])"
      ]
    },
    {
      "cell_type": "code",
      "execution_count": 29,
      "metadata": {},
      "outputs": [
        {
          "name": "stdout",
          "output_type": "stream",
          "text": [
            "[1, 2, 3, 4, 17]\n",
            "[1, 2, 3, 4, 17, 3, 3]\n"
          ]
        }
      ],
      "source": [
        "Imputer.median([1, 2, 3, None, 4, None, 17])"
      ]
    },
    {
      "cell_type": "markdown",
      "metadata": {
        "colab_type": "text",
        "id": "bc7K3aMYr9uH"
      },
      "source": [
        "# OPTIONAL - Improve Imputer\n",
        "\n",
        "_We have created our Imputer class which works very well for replacing missing values with averages. But, couldn't we also use this class to replace with a median? Try to add a method in Imputer that will allow us to replace the list with either the average or the median._"
      ]
    },
    {
      "cell_type": "code",
      "execution_count": 2,
      "metadata": {
        "colab": {
          "base_uri": "https://localhost:8080/",
          "height": 86
        },
        "colab_type": "code",
        "id": "vWlNZ5nDrqPa",
        "outputId": "b80570c6-7d61-4ee6-8da0-deefadcf6f3e"
      },
      "outputs": [
        {
          "name": "stdout",
          "output_type": "stream",
          "text": [
            "Here is a list : [None, 2, 3, 12, 5, 6, None]\n",
            "Here is the list with the empty values replaced by the average value : [5.6, 2, 3, 12, 5, 6, 5.6]\n",
            "Here is a list : [None, 2, 3, 12, 5, 6, None]\n",
            "Here is the list with the empty values replaced by the median : [5, 2, 3, 12, 5, 6, 5]\n"
          ]
        }
      ],
      "source": [
        "# See above"
      ]
    }
  ],
  "metadata": {
    "colab": {
      "collapsed_sections": [],
      "name": "Imputer - Exercice S1-3.ipynb",
      "provenance": [],
      "version": "0.3.2"
    },
    "kernelspec": {
      "display_name": "Python 3",
      "name": "python3"
    },
    "language_info": {
      "codemirror_mode": {
        "name": "ipython",
        "version": 3
      },
      "file_extension": ".py",
      "mimetype": "text/x-python",
      "name": "python",
      "nbconvert_exporter": "python",
      "pygments_lexer": "ipython3",
      "version": "3.11.3"
    }
  },
  "nbformat": 4,
  "nbformat_minor": 0
}
