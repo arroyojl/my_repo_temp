{
 "cells": [
  {
   "cell_type": "markdown",
   "metadata": {},
   "source": [
    "# Build a quiz - Part 2"
   ]
  },
  {
   "cell_type": "markdown",
   "metadata": {},
   "source": [
    "Below is the code we wrote yesterday, that asks three questions to the user and allows up to 3 wrong answers :"
   ]
  },
  {
   "cell_type": "code",
   "execution_count": 3,
   "metadata": {
    "tags": []
   },
   "outputs": [
    {
     "name": "stdout",
     "output_type": "stream",
     "text": [
      "Welcome to our quizz!\n",
      "You have 3 lives.\n",
      "\n",
      "Question 1:\n",
      "Your answer : 2\n",
      "Question 2:\n",
      "Your answer : 1976\n",
      "Question 3:\n",
      "Your answer : elon musk\n",
      "Well done, you have win!\n"
     ]
    }
   ],
   "source": [
    "lives = 3\n",
    "\n",
    "print(\"Welcome to our quizz!\")\n",
    "print(\"You have 3 lives.\")\n",
    "print()\n",
    "\n",
    "# Question 1 if lives > 0\n",
    "print(\"Question 1:\")\n",
    "question1= input(\"How many times France soccer team won the World Cup?\")\n",
    "print('Your answer : {}'.format(question1))\n",
    "\n",
    "while question1 != \"2\":\n",
    "    lives -= 1 # same as lives = lives - 1\n",
    "    print(\"Sorry, you have {} chances left\".format(lives))\n",
    "    if lives == 0:\n",
    "        print(\"Oh no, you lost the quiz...\")\n",
    "        break\n",
    "    question1= input(\"How many times France soccer team won the World Cup?\")\n",
    "    print('Your answer : {}'.format(question1))\n",
    "\n",
    "\n",
    "# Question 2 if lives > 0\n",
    "if lives > 0:\n",
    "    print(\"Question 2:\")\n",
    "    question2 = input(\"When Apple was founded?\")\n",
    "    print('Your answer : {}'.format(question2))\n",
    "    while question2 != \"1976\":\n",
    "        lives -=1\n",
    "        print(\"Sorry, you have {} chances left\".format(lives))\n",
    "        if lives == 0:\n",
    "            print(\"Oh no, you lost the quiz...\")\n",
    "            break\n",
    "        question2 = input(\"When Apple was founded?\")\n",
    "        print('Your answer : {}'.format(question2))\n",
    "\n",
    "\n",
    "# Question 3 if lives > 0\n",
    "if lives > 0:\n",
    "    print(\"Question 3:\")\n",
    "    question3 = input(\"Who founded SpaceX?\")\n",
    "    question3 = question3.lower()\n",
    "    print(\"Your answer : {}\".format(question3))\n",
    "    while question3 != \"elon musk\":\n",
    "        lives -=1\n",
    "        print(\"Sorry, you have {} chances left\".format(lives))\n",
    "        if lives == 0:\n",
    "            print(\"Oh no, you lost the quiz...\")\n",
    "            break\n",
    "        question3 = input(\"Who founded SpaceX?\")\n",
    "        question3 = question3.lower()\n",
    "        print(\"Your answer : {}\".format(question3))\n",
    "\n",
    "if lives > 0:\n",
    "    print(\"Well done, you have win!\")"
   ]
  },
  {
   "cell_type": "markdown",
   "metadata": {},
   "source": [
    "Let's refactor our quiz now that we know how to be dry.\n",
    "\n",
    "SPECs: \n",
    "\n",
    "* Your code should be DRY \n",
    "* You should use functions "
   ]
  },
  {
   "cell_type": "code",
   "execution_count": 2,
   "metadata": {
    "tags": []
   },
   "outputs": [
    {
     "name": "stdout",
     "output_type": "stream",
     "text": [
      "Sorry, you have 2 chances left.\n",
      "Sorry, you have 1 chances left.\n",
      "\n",
      "\n",
      "\n",
      "Well done, you have won!\n"
     ]
    }
   ],
   "source": [
    "\n",
    "def ask_question(nb_attempts_left, question_sentence, right_answer): # three arguments\n",
    "    if nb_attempts_left > 0:\n",
    "        answer = input(question_sentence)\n",
    "        answer = answer.lower()\n",
    "        while answer != right_answer:\n",
    "            nb_attempts_left -=1\n",
    "            print(f\"Sorry, you have {nb_attempts_left} chances left.\")\n",
    "            if nb_attempts_left == 0:\n",
    "                print(\"Oh no, you lost the quiz...\")\n",
    "                break\n",
    "            answer = input(question_sentence)\n",
    "            answer = answer.lower()\n",
    "    print('')\n",
    "    return nb_attempts_left\n",
    "\n",
    "questions_answers_list = [\n",
    "    (\"How many times did the French soccer team win the World Cup?\", \"2\"),\n",
    "    (\"When was Apple founded?\", \"1976\"),\n",
    "    (\"Who founded SpaceX?\", \"elon musk\")\n",
    "]\n",
    "\n",
    "nb_attempts = 3\n",
    "\n",
    "for question, answer in questions_answers_list :\n",
    "    nb_attempts = ask_question(nb_attempts, question, answer) # calling the function\n",
    "\n",
    "if nb_attempts > 0:\n",
    "    print(\"Well done, you have won!\")"
   ]
  },
  {
   "cell_type": "markdown",
   "metadata": {},
   "source": [
    "The solution above is considered more readable for the following reasons :\n",
    "* the instructions that were repeated before are now encapsulated in a function\n",
    "* the questions and answers are stored in one single list\n",
    "* we use a `for` loop to execute the function for each question "
   ]
  }
 ],
 "metadata": {
  "kernelspec": {
   "display_name": "Python 3",
   "language": "python",
   "name": "python3"
  },
  "language_info": {
   "codemirror_mode": {
    "name": "ipython",
    "version": 3
   },
   "file_extension": ".py",
   "mimetype": "text/x-python",
   "name": "python",
   "nbconvert_exporter": "python",
   "pygments_lexer": "ipython3",
   "version": "3.11.3"
  },
  "orig_nbformat": 2
 },
 "nbformat": 4,
 "nbformat_minor": 2
}
